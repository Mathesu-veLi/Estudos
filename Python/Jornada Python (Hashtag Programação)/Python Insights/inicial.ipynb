{
 "cells": [
  {
   "cell_type": "markdown",
   "metadata": {},
   "source": [
    "# Python Insights - Analisando Dados com Python\n",
    "\n",
    "### Case - Cancelamento de Clientes\n",
    "\n",
    "Você foi contratado por uma empresa com mais de 800 mil clientes para um projeto de Dados. Recentemente a empresa percebeu que da sua base total de clientes, a maioria são clientes inativos, ou seja, que já cancelaram o serviço.\n",
    "\n",
    "Precisando melhorar seus resultados ela quer conseguir entender os principais motivos desses cancelamentos e quais as ações mais eficientes para reduzir esse número.\n",
    "\n",
    "Base de dados e arquivos: https://drive.google.com/drive/folders/1uDesZePdkhiraJmiyeZ-w5tfc8XsNYFZ?usp=drive_link"
   ]
  },
  {
   "cell_type": "code",
   "execution_count": 9,
   "metadata": {},
   "outputs": [],
   "source": [
    "# Passo a passo do projeto\n",
    "# 1°: Importar base de dados\n",
    "\n",
    "import pandas\n",
    "\n",
    "tabela = pandas.read_csv(\"cancelamentos.csv\").dropna()\n",
    "tabela = tabela.drop(\"CustomerID\", axis=1) \n",
    "# Excluir linha -> axis = 0\n",
    "# Excluir coluna -> axis = 1\n"
   ]
  },
  {
   "cell_type": "code",
   "execution_count": null,
   "metadata": {},
   "outputs": [],
   "source": [
    "# 2°: Visualizar a base de dados\n",
    "\n",
    "display(tabela)\n"
   ]
  },
  {
   "cell_type": "code",
   "execution_count": null,
   "metadata": {},
   "outputs": [],
   "source": [
    "# 3°: Tratamento de erros (resolver as cagadas da base de dados)\n",
    "\n",
    "display(tabela.info())"
   ]
  },
  {
   "cell_type": "code",
   "execution_count": null,
   "metadata": {},
   "outputs": [],
   "source": [
    "# 4°: Análise inicial de dados (entender como estão os cancelamentos)\n",
    "print('Número de pessoas que cancelaram ou não')\n",
    "display(tabela[\"cancelou\"].value_counts())\n",
    "print('Porcentagem de cancelamentos')\n",
    "display(tabela[\"cancelou\"].value_counts(normalize=True).map(\"{:.1%}\".format))\n"
   ]
  },
  {
   "cell_type": "code",
   "execution_count": null,
   "metadata": {},
   "outputs": [],
   "source": [
    "display(tabela.groupby(['duracao_contrato'])['cancelou'].mean())"
   ]
  },
  {
   "cell_type": "code",
   "execution_count": null,
   "metadata": {},
   "outputs": [],
   "source": [
    "tabela = tabela[tabela[\"duracao_contrato\"]!=\"Monthly\"]\n",
    "print('Número de pessoas que cancelaram ou não')\n",
    "display(tabela[\"cancelou\"].value_counts())\n",
    "print('Porcentagem de cancelamentos')\n",
    "display(tabela[\"cancelou\"].value_counts(normalize=True).map(\"{:.1%}\".format))\n"
   ]
  },
  {
   "cell_type": "code",
   "execution_count": null,
   "metadata": {},
   "outputs": [],
   "source": [
    "# 5°: Análise profunda da base de dados (encontrando a causa dos cancelamentos)\n",
    "import plotly.express as px\n",
    "\n",
    "for coluna in tabela.columns:\n",
    "    gráfico = px.histogram(tabela, x=coluna, color=\"cancelou\", text_auto=True)\n",
    "    gráfico.show()"
   ]
  },
  {
   "cell_type": "code",
   "execution_count": null,
   "metadata": {},
   "outputs": [],
   "source": [
    "# ligações call center a partir de 5, cancelam\n",
    "tabela = tabela[tabela[\"ligacoes_callcenter\"]<5]\n",
    "\n",
    "# dias de atraso, a partir de 21, cancelam\n",
    "tabela = tabela[tabela[\"dias_atraso\"]<=20]\n",
    "\n",
    "print('Número de pessoas que cancelaram ou não')\n",
    "display(tabela[\"cancelou\"].value_counts())\n",
    "print('Porcentagem de cancelamentos')\n",
    "display(tabela[\"cancelou\"].value_counts(normalize=True).map(\"{:.1%}\".format))\n"
   ]
  },
  {
   "cell_type": "code",
   "execution_count": null,
   "metadata": {},
   "outputs": [],
   "source": [
    "# Principais causas de cancelamento\n",
    "# forma de pagamento - mensal\n",
    "# dias de atraso do pagamento > 20\n",
    "# ligações do call center >= 5"
   ]
  }
 ],
 "metadata": {
  "kernelspec": {
   "display_name": "base",
   "language": "python",
   "name": "python3"
  },
  "language_info": {
   "codemirror_mode": {
    "name": "ipython",
    "version": 3
   },
   "file_extension": ".py",
   "mimetype": "text/x-python",
   "name": "python",
   "nbconvert_exporter": "python",
   "pygments_lexer": "ipython3",
   "version": "3.10.6"
  },
  "orig_nbformat": 4
 },
 "nbformat": 4,
 "nbformat_minor": 2
}
